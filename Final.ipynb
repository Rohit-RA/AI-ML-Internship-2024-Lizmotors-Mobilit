{
 "cells": [
  {
   "cell_type": "code",
   "execution_count": 1,
   "metadata": {},
   "outputs": [],
   "source": [
    "import nltk\n",
    "import csv"
   ]
  },
  {
   "cell_type": "code",
   "execution_count": 2,
   "metadata": {},
   "outputs": [],
   "source": [
    "data=[]\n",
    "with open('Words.csv', 'r',encoding='utf-8') as file:\n",
    "    reader = csv.reader(file)\n",
    "    for row in reader:\n",
    "        data+=[row]"
   ]
  },
  {
   "cell_type": "code",
   "execution_count": 3,
   "metadata": {},
   "outputs": [
    {
     "name": "stderr",
     "output_type": "stream",
     "text": [
      "[nltk_data] Downloading package punkt to C:\\Users\\Yashasvi\n",
      "[nltk_data]     Rai\\AppData\\Roaming\\nltk_data...\n",
      "[nltk_data]   Package punkt is already up-to-date!\n",
      "[nltk_data] Downloading package stopwords to C:\\Users\\Yashasvi\n",
      "[nltk_data]     Rai\\AppData\\Roaming\\nltk_data...\n",
      "[nltk_data]   Package stopwords is already up-to-date!\n"
     ]
    },
    {
     "data": {
      "text/plain": [
       "True"
      ]
     },
     "execution_count": 3,
     "metadata": {},
     "output_type": "execute_result"
    }
   ],
   "source": [
    "from nltk.corpus import stopwords\n",
    "from nltk.tokenize import word_tokenize\n",
    "from nltk.stem import PorterStemmer\n",
    "from nltk.tokenize import RegexpTokenizer\n",
    "nltk.download('punkt')\n",
    "nltk.download('stopwords')"
   ]
  },
  {
   "cell_type": "code",
   "execution_count": 4,
   "metadata": {},
   "outputs": [],
   "source": [
    "def process(word_data):\n",
    "    New_word=[]\n",
    "    stop_words=stopwords.words('english')\n",
    "    New_word = [word for word in word_data if word.lower() not in stop_words]\n",
    "    for i in range(len(New_word)):\n",
    "        string=\"\"\n",
    "        for j in str(New_word[i]):\n",
    "            if j not in \"0123456789\":\n",
    "                string+=j.lower()\n",
    "            else:\n",
    "                string+=j\n",
    "        New_word[i]=string\n",
    "    pattern = r'\\w+'\n",
    "    tokenizer = RegexpTokenizer(pattern)\n",
    "    New_word=tokenizer.tokenize(' '.join(New_word))\n",
    "    stemmer=PorterStemmer()\n",
    "    word_data=[]\n",
    "    for i in range(len(New_word)):\n",
    "        word_data+=[stemmer.stem(New_word[i])]\n",
    "    return word_data\n",
    "processed_data=[]\n",
    "for i in data:\n",
    "    processed_data+=[process(i)]"
   ]
  },
  {
   "cell_type": "code",
   "execution_count": 5,
   "metadata": {},
   "outputs": [],
   "source": [
    "Query_tokens=[]\n",
    "with open('Queries.txt','r') as File:\n",
    "    Queries=File.readlines()\n",
    "for i in Queries:\n",
    "    Query_tokens+=[i.split()]"
   ]
  },
  {
   "cell_type": "code",
   "execution_count": 6,
   "metadata": {},
   "outputs": [
    {
     "name": "stdout",
     "output_type": "stream",
     "text": [
      "[['identifi', 'industri', 'canoo', 'oper', 'along', 'size', 'growth', 'rate', 'trend', 'key', 'player'], ['analyz', 'canoo', 's', 'main', 'competitor', 'includ', 'market', 'share', 'product', 'servic', 'offer', 'price', 'strategi', 'market', 'effort'], ['identifi', 'key', 'trend', 'ev', 'market', 'includ', 'chang', 'consum', 'behavior', 'technolog', 'advanc', 'shift', 'competit', 'landscap'], ['gather', 'inform', 'canoo', 's', 'financi', 'perform', 'includ', 'revenu', 'profit', 'margin', 'return', 'invest', 'expens', 'structur']]\n"
     ]
    }
   ],
   "source": [
    "for i in range(len(Query_tokens)):\n",
    "    Query_tokens[i]=process(Query_tokens[i])\n",
    "print(Query_tokens)"
   ]
  },
  {
   "cell_type": "code",
   "execution_count": 7,
   "metadata": {},
   "outputs": [],
   "source": [
    "from gensim.models import Word2Vec\n",
    "import numpy as np\n",
    "def vector(document, word2vec_model):\n",
    "    array=[]\n",
    "    for i in document:\n",
    "        if i in word2vec_model.wv:\n",
    "            array+=[word2vec_model.wv[i]]\n",
    "    return np.mean(array,axis=0)\n",
    "VectorData=[]\n",
    "Query_Vectors={}\n",
    "word2vec_model = Word2Vec(sentences=processed_data, vector_size=60, window=20, min_count=1)\n",
    "word2vec_model.save(\"word2vec_model.bin\")\n",
    "for j in processed_data:\n",
    "    VectorData+=[vector(j,word2vec_model)]\n",
    "# with open('VectorData.csv','w',newline='') as csvfile:\n",
    "#     writer=csv.writer(csvfile)\n",
    "#     writer.writerows(VectorData)\n",
    "for i in range(len(Query_tokens)):\n",
    "    Query_Vectors[i]=[vector(Query_tokens[i],word2vec_model)]"
   ]
  },
  {
   "cell_type": "code",
   "execution_count": 8,
   "metadata": {},
   "outputs": [],
   "source": [
    "from sklearn.metrics.pairwise import cosine_similarity\n",
    "\n",
    "Dict = {}\n",
    "for query_id in Query_Vectors.keys():\n",
    "    query_vector = Query_Vectors[query_id]\n",
    "    similarities = []\n",
    "    query_documents = set()\n",
    "    for j, vector in enumerate(VectorData):\n",
    "        similarity = cosine_similarity(query_vector, [vector])\n",
    "        similarities.append((similarity, j))\n",
    "    similarities.sort(reverse=True)\n",
    "    Documents = []\n",
    "    for similarity, j in similarities:\n",
    "        if data[j] not in Documents:\n",
    "            Documents.append(data[j])\n",
    "            query_documents.add(j)\n",
    "            if len(Documents) == 5:\n",
    "                break\n",
    "    Dict[Queries[query_id]] = Documents"
   ]
  },
  {
   "cell_type": "code",
   "execution_count": 9,
   "metadata": {},
   "outputs": [],
   "source": [
    "for i in Dict:\n",
    "    temp=[]\n",
    "    for j in Dict[i]:\n",
    "        temp+=[' '.join(j)]\n",
    "    Dict[i]=temp"
   ]
  },
  {
   "cell_type": "code",
   "execution_count": 10,
   "metadata": {},
   "outputs": [],
   "source": [
    "from transformers import GPT2Tokenizer, GPT2LMHeadModel\n"
   ]
  },
  {
   "cell_type": "code",
   "execution_count": 11,
   "metadata": {},
   "outputs": [],
   "source": [
    "tokenizer = GPT2Tokenizer.from_pretrained(\"gpt2\")\n",
    "model = GPT2LMHeadModel.from_pretrained(\"gpt2\")"
   ]
  },
  {
   "cell_type": "code",
   "execution_count": 13,
   "metadata": {},
   "outputs": [
    {
     "name": "stderr",
     "output_type": "stream",
     "text": [
      "Setting `pad_token_id` to `eos_token_id`:50256 for open-end generation.\n"
     ]
    },
    {
     "name": "stderr",
     "output_type": "stream",
     "text": [
      "Setting `pad_token_id` to `eos_token_id`:50256 for open-end generation.\n",
      "Setting `pad_token_id` to `eos_token_id`:50256 for open-end generation.\n",
      "Setting `pad_token_id` to `eos_token_id`:50256 for open-end generation.\n"
     ]
    }
   ],
   "source": [
    "textfile=open(\"Solution.txt\",'w',encoding='utf-8')\n",
    "for i in Dict:\n",
    "    query=i\n",
    "    Docs=Dict[i]\n",
    "    Input2=''\n",
    "    for doc in Docs:\n",
    "        pattern = r'\\w+'\n",
    "        tokeniz = RegexpTokenizer(pattern)\n",
    "        doc=tokeniz.tokenize(doc)\n",
    "        newdoc=' '.join(doc)\n",
    "        Input2+=newdoc+' '\n",
    "    Input=f\"{query} {Input2}\"\n",
    "    inputs = tokenizer(Input, return_tensors=\"pt\", max_length=1024, truncation=True)\n",
    "    output = model.generate(inputs.input_ids,attention_mask=inputs.attention_mask, max_length=200, num_return_sequences=1,\n",
    "                            temperature=0.7, top_k=50, top_p=0.95)\n",
    "    generated_text = tokenizer.decode(output[0], skip_special_tokens=True)\n",
    "    generated_text=generated_text[len(query):]\n",
    "    textfile.writelines('Query: '+query+'\\n')\n",
    "    textfile.writelines('\\n')\n",
    "    textfile.writelines('Answer:'+generated_text+'\\n')\n",
    "    textfile.writelines('\\n')"
   ]
  }
 ],
 "metadata": {
  "kernelspec": {
   "display_name": "Python 3",
   "language": "python",
   "name": "python3"
  },
  "language_info": {
   "codemirror_mode": {
    "name": "ipython",
    "version": 3
   },
   "file_extension": ".py",
   "mimetype": "text/x-python",
   "name": "python",
   "nbconvert_exporter": "python",
   "pygments_lexer": "ipython3",
   "version": "3.11.0"
  }
 },
 "nbformat": 4,
 "nbformat_minor": 2
}
